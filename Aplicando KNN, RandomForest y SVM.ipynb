{
 "cells": [
  {
   "cell_type": "markdown",
   "metadata": {},
   "source": [
    "# Descripción del Dataset"
   ]
  },
  {
   "cell_type": "markdown",
   "metadata": {},
   "source": [
    "GTZAN es un dataset comunmente utilizado para el problema de Clasificación de Genero de Musica, el cual contiene 10 diferentes géneros y cada uno de ellos contiene 100 audios diferentes del género que les corresponda."
   ]
  },
  {
   "cell_type": "code",
   "execution_count": 1,
   "metadata": {},
   "outputs": [
    {
     "data": {
      "text/html": [
       "<div>\n",
       "<style scoped>\n",
       "    .dataframe tbody tr th:only-of-type {\n",
       "        vertical-align: middle;\n",
       "    }\n",
       "\n",
       "    .dataframe tbody tr th {\n",
       "        vertical-align: top;\n",
       "    }\n",
       "\n",
       "    .dataframe thead th {\n",
       "        text-align: right;\n",
       "    }\n",
       "</style>\n",
       "<table border=\"1\" class=\"dataframe\">\n",
       "  <thead>\n",
       "    <tr style=\"text-align: right;\">\n",
       "      <th></th>\n",
       "      <th>filename</th>\n",
       "      <th>chroma_stft</th>\n",
       "      <th>rmse</th>\n",
       "      <th>spectral_centroid</th>\n",
       "      <th>spectral_bandwidth</th>\n",
       "      <th>rolloff</th>\n",
       "      <th>zero_crossing_rate</th>\n",
       "      <th>mfcc1</th>\n",
       "      <th>mfcc2</th>\n",
       "      <th>mfcc3</th>\n",
       "      <th>...</th>\n",
       "      <th>mfcc12</th>\n",
       "      <th>mfcc13</th>\n",
       "      <th>mfcc14</th>\n",
       "      <th>mfcc15</th>\n",
       "      <th>mfcc16</th>\n",
       "      <th>mfcc17</th>\n",
       "      <th>mfcc18</th>\n",
       "      <th>mfcc19</th>\n",
       "      <th>mfcc20</th>\n",
       "      <th>label</th>\n",
       "    </tr>\n",
       "  </thead>\n",
       "  <tbody>\n",
       "    <tr>\n",
       "      <th>Blues</th>\n",
       "      <td>blues.00049.wav</td>\n",
       "      <td>0.277484</td>\n",
       "      <td>0.088607</td>\n",
       "      <td>1318.656822</td>\n",
       "      <td>1904.761177</td>\n",
       "      <td>3046.681577</td>\n",
       "      <td>0.039973</td>\n",
       "      <td>-255.965774</td>\n",
       "      <td>110.823046</td>\n",
       "      <td>21.505215</td>\n",
       "      <td>...</td>\n",
       "      <td>-2.442929</td>\n",
       "      <td>-7.130865</td>\n",
       "      <td>-11.163917</td>\n",
       "      <td>-12.609408</td>\n",
       "      <td>2.742009</td>\n",
       "      <td>-8.948849</td>\n",
       "      <td>-7.940728</td>\n",
       "      <td>-2.344157</td>\n",
       "      <td>-0.705606</td>\n",
       "      <td>Blues</td>\n",
       "    </tr>\n",
       "    <tr>\n",
       "      <th>Blues</th>\n",
       "      <td>blues.00045.wav</td>\n",
       "      <td>0.429511</td>\n",
       "      <td>0.148366</td>\n",
       "      <td>1739.019621</td>\n",
       "      <td>2290.401739</td>\n",
       "      <td>4551.155813</td>\n",
       "      <td>0.048052</td>\n",
       "      <td>-163.211141</td>\n",
       "      <td>89.791041</td>\n",
       "      <td>12.979256</td>\n",
       "      <td>...</td>\n",
       "      <td>6.008639</td>\n",
       "      <td>-2.910059</td>\n",
       "      <td>-0.434613</td>\n",
       "      <td>-17.545474</td>\n",
       "      <td>4.154533</td>\n",
       "      <td>-5.990226</td>\n",
       "      <td>-7.860423</td>\n",
       "      <td>-8.565096</td>\n",
       "      <td>1.857711</td>\n",
       "      <td>Blues</td>\n",
       "    </tr>\n",
       "    <tr>\n",
       "      <th>Blues</th>\n",
       "      <td>blues.00040.wav</td>\n",
       "      <td>0.397725</td>\n",
       "      <td>0.134892</td>\n",
       "      <td>2272.495079</td>\n",
       "      <td>2356.855937</td>\n",
       "      <td>5108.319111</td>\n",
       "      <td>0.097657</td>\n",
       "      <td>-110.260079</td>\n",
       "      <td>90.701812</td>\n",
       "      <td>-2.527487</td>\n",
       "      <td>...</td>\n",
       "      <td>5.952405</td>\n",
       "      <td>-8.033586</td>\n",
       "      <td>4.239868</td>\n",
       "      <td>-16.485552</td>\n",
       "      <td>6.542503</td>\n",
       "      <td>-5.695943</td>\n",
       "      <td>-3.640864</td>\n",
       "      <td>-4.856884</td>\n",
       "      <td>1.854516</td>\n",
       "      <td>Blues</td>\n",
       "    </tr>\n",
       "    <tr>\n",
       "      <th>Blues</th>\n",
       "      <td>blues.00010.wav</td>\n",
       "      <td>0.303954</td>\n",
       "      <td>0.142939</td>\n",
       "      <td>1410.469096</td>\n",
       "      <td>1512.620983</td>\n",
       "      <td>2767.274933</td>\n",
       "      <td>0.062981</td>\n",
       "      <td>-173.707514</td>\n",
       "      <td>137.156400</td>\n",
       "      <td>-23.766517</td>\n",
       "      <td>...</td>\n",
       "      <td>1.800535</td>\n",
       "      <td>-2.988374</td>\n",
       "      <td>-1.869389</td>\n",
       "      <td>-0.800155</td>\n",
       "      <td>-3.023782</td>\n",
       "      <td>-0.445196</td>\n",
       "      <td>-1.998228</td>\n",
       "      <td>-0.743599</td>\n",
       "      <td>-4.986112</td>\n",
       "      <td>Blues</td>\n",
       "    </tr>\n",
       "    <tr>\n",
       "      <th>Blues</th>\n",
       "      <td>blues.00097.wav</td>\n",
       "      <td>0.375158</td>\n",
       "      <td>0.198282</td>\n",
       "      <td>1236.574280</td>\n",
       "      <td>1602.309124</td>\n",
       "      <td>2604.150920</td>\n",
       "      <td>0.044626</td>\n",
       "      <td>-148.639173</td>\n",
       "      <td>145.746311</td>\n",
       "      <td>-9.363639</td>\n",
       "      <td>...</td>\n",
       "      <td>3.230693</td>\n",
       "      <td>-0.667060</td>\n",
       "      <td>-0.727791</td>\n",
       "      <td>-6.821160</td>\n",
       "      <td>-3.942547</td>\n",
       "      <td>-15.739370</td>\n",
       "      <td>-5.604688</td>\n",
       "      <td>-5.802770</td>\n",
       "      <td>-0.048729</td>\n",
       "      <td>Blues</td>\n",
       "    </tr>\n",
       "  </tbody>\n",
       "</table>\n",
       "<p>5 rows × 28 columns</p>\n",
       "</div>"
      ],
      "text/plain": [
       "              filename  chroma_stft      rmse  spectral_centroid  \\\n",
       "Blues  blues.00049.wav     0.277484  0.088607        1318.656822   \n",
       "Blues  blues.00045.wav     0.429511  0.148366        1739.019621   \n",
       "Blues  blues.00040.wav     0.397725  0.134892        2272.495079   \n",
       "Blues  blues.00010.wav     0.303954  0.142939        1410.469096   \n",
       "Blues  blues.00097.wav     0.375158  0.198282        1236.574280   \n",
       "\n",
       "       spectral_bandwidth      rolloff  zero_crossing_rate       mfcc1  \\\n",
       "Blues         1904.761177  3046.681577            0.039973 -255.965774   \n",
       "Blues         2290.401739  4551.155813            0.048052 -163.211141   \n",
       "Blues         2356.855937  5108.319111            0.097657 -110.260079   \n",
       "Blues         1512.620983  2767.274933            0.062981 -173.707514   \n",
       "Blues         1602.309124  2604.150920            0.044626 -148.639173   \n",
       "\n",
       "            mfcc2      mfcc3  ...    mfcc12    mfcc13     mfcc14     mfcc15  \\\n",
       "Blues  110.823046  21.505215  ... -2.442929 -7.130865 -11.163917 -12.609408   \n",
       "Blues   89.791041  12.979256  ...  6.008639 -2.910059  -0.434613 -17.545474   \n",
       "Blues   90.701812  -2.527487  ...  5.952405 -8.033586   4.239868 -16.485552   \n",
       "Blues  137.156400 -23.766517  ...  1.800535 -2.988374  -1.869389  -0.800155   \n",
       "Blues  145.746311  -9.363639  ...  3.230693 -0.667060  -0.727791  -6.821160   \n",
       "\n",
       "         mfcc16     mfcc17    mfcc18    mfcc19    mfcc20  label  \n",
       "Blues  2.742009  -8.948849 -7.940728 -2.344157 -0.705606  Blues  \n",
       "Blues  4.154533  -5.990226 -7.860423 -8.565096  1.857711  Blues  \n",
       "Blues  6.542503  -5.695943 -3.640864 -4.856884  1.854516  Blues  \n",
       "Blues -3.023782  -0.445196 -1.998228 -0.743599 -4.986112  Blues  \n",
       "Blues -3.942547 -15.739370 -5.604688 -5.802770 -0.048729  Blues  \n",
       "\n",
       "[5 rows x 28 columns]"
      ]
     },
     "execution_count": 1,
     "metadata": {},
     "output_type": "execute_result"
    }
   ],
   "source": [
    "import matplotlib.pyplot as plt\n",
    "import matplotlib\n",
    "import numpy as np\n",
    "import csv\n",
    "import pandas as pd\n",
    "\n",
    "#Cargar el dataset ya convertido en caracteristicas extraidas desde los espectrogramas de cada canción.\n",
    "        \n",
    "datos = pd.read_csv('dataset.csv')\n",
    "datos.head()"
   ]
  },
  {
   "cell_type": "code",
   "execution_count": 2,
   "metadata": {},
   "outputs": [],
   "source": [
    "#Borrar los nombres de los archivos\n",
    "datos = datos.drop(['filename'],axis=1)"
   ]
  },
  {
   "cell_type": "code",
   "execution_count": 3,
   "metadata": {},
   "outputs": [],
   "source": [
    "from sklearn.preprocessing import LabelEncoder, StandardScaler\n",
    "\n",
    "# Etiquetar\n",
    "lista = datos.iloc[:, -1]\n",
    "encoder = LabelEncoder()\n",
    "y = encoder.fit_transform(lista)"
   ]
  },
  {
   "cell_type": "markdown",
   "metadata": {},
   "source": [
    "# Extraer los datos y escalar las caracteristicas"
   ]
  },
  {
   "cell_type": "code",
   "execution_count": 4,
   "metadata": {},
   "outputs": [],
   "source": [
    "scaler = StandardScaler()\n",
    "x = scaler.fit_transform(np.array(datos.iloc[:, :-1], dtype = float))"
   ]
  },
  {
   "cell_type": "code",
   "execution_count": 5,
   "metadata": {},
   "outputs": [
    {
     "data": {
      "text/plain": [
       "(1000, 26)"
      ]
     },
     "execution_count": 5,
     "metadata": {},
     "output_type": "execute_result"
    }
   ],
   "source": [
    "x.shape"
   ]
  },
  {
   "cell_type": "code",
   "execution_count": 6,
   "metadata": {},
   "outputs": [
    {
     "data": {
      "text/plain": [
       "(1000,)"
      ]
     },
     "execution_count": 6,
     "metadata": {},
     "output_type": "execute_result"
    }
   ],
   "source": [
    "y.shape"
   ]
  },
  {
   "cell_type": "markdown",
   "metadata": {},
   "source": [
    "# Principal Component Analysis"
   ]
  },
  {
   "cell_type": "code",
   "execution_count": 7,
   "metadata": {},
   "outputs": [],
   "source": [
    "# Matriz de covarianza\n",
    "\n",
    "from numpy.core.numeric import dot,newaxis\n",
    "def covarianza(matriz):\n",
    "        matriz = np.array(matriz, dtype=float)\n",
    "        tup = (slice(None),newaxis)\n",
    "        matriz -= matriz.mean(axis=1)[tup]\n",
    "        return (dot(matriz, matriz.T) /float((matriz.shape[1])-1))"
   ]
  },
  {
   "cell_type": "code",
   "execution_count": 8,
   "metadata": {},
   "outputs": [],
   "source": [
    "c = covarianza(x.T)"
   ]
  },
  {
   "cell_type": "code",
   "execution_count": 9,
   "metadata": {},
   "outputs": [],
   "source": [
    "# Eigenvalores y Eigenvectores\n",
    "eigen_vals, eigen_vecs = np.linalg.eig(c)"
   ]
  },
  {
   "cell_type": "code",
   "execution_count": 10,
   "metadata": {},
   "outputs": [
    {
     "name": "stdout",
     "output_type": "stream",
     "text": [
      "\n",
      "Eigenvalues [8.39402206e+00 6.65038439e+00 2.70556857e+00 1.55716043e+00\n",
      " 9.44893754e-01 8.95647175e-01 7.36347893e-01 5.41865773e-01\n",
      " 4.57619380e-01 3.91700724e-01 2.90470291e-03 1.00438870e-02\n",
      " 3.61821162e-02 7.67154961e-02 3.43939837e-01 3.23178683e-01\n",
      " 1.10046746e-01 2.78625923e-01 1.35083154e-01 1.57169701e-01\n",
      " 1.72213670e-01 1.87024278e-01 2.44251177e-01 2.40681068e-01\n",
      " 2.10801151e-01 2.21954289e-01]\n"
     ]
    }
   ],
   "source": [
    "print('\\nEigenvalues {}'.format(eigen_vals))"
   ]
  },
  {
   "cell_type": "code",
   "execution_count": 11,
   "metadata": {},
   "outputs": [
    {
     "data": {
      "image/png": "[encoded data removed]",
      "text/plain": [
       "<Figure size 432x288 with 1 Axes>"
      ]
     },
     "metadata": {
      "needs_background": "light"
     },
     "output_type": "display_data"
    }
   ],
   "source": [
    "# Visualizar cuantas caracteristicas si son importantes\n",
    "tot = sum(eigen_vals)\n",
    "var_exp = [(i / tot) for i in sorted(eigen_vals, reverse=True)]\n",
    "cum_var_exp = np.cumsum(var_exp)\n",
    "\n",
    "plt.bar(range(1, 27), var_exp, alpha=0.5, align='center', label='individual explained variance')\n",
    "plt.step(range(1, 27), cum_var_exp, where='mid', label='cumilative explained variance')\n",
    "plt.ylabel('Explained variance ratio')\n",
    "plt.xlabel('Principal component index')\n",
    "plt.legend(loc='best')\n",
    "plt.show()"
   ]
  },
  {
   "cell_type": "code",
   "execution_count": 12,
   "metadata": {},
   "outputs": [
    {
     "data": {
      "text/plain": [
       "[(8.394022064175704,\n",
       "  array([ 0.15750582,  0.05561711,  0.0574533 , -0.0150956 ,  0.04592882,\n",
       "          0.11974928,  0.13925357, -0.0502278 , -0.18185693,  0.23881511,\n",
       "         -0.24722585,  0.27593969, -0.24765181,  0.29397243, -0.2242241 ,\n",
       "          0.28413817, -0.22236792,  0.28003053, -0.24631895,  0.22855912,\n",
       "         -0.22708602,  0.20040562, -0.1890193 ,  0.15377912, -0.15246124,\n",
       "          0.09459368])),\n",
       " (6.650384387542687,\n",
       "  array([-0.25704173, -0.24291229, -0.35592343, -0.35623335, -0.36023094,\n",
       "         -0.27204858, -0.27349239,  0.35069671, -0.13047871,  0.07739774,\n",
       "         -0.1182116 ,  0.00944076, -0.17618804, -0.03518951, -0.20296479,\n",
       "         -0.06347919, -0.15938378, -0.06115316, -0.11547657, -0.07825034,\n",
       "         -0.09739517, -0.0707386 , -0.08848425, -0.09888595, -0.0860358 ,\n",
       "         -0.13073916])),\n",
       " (2.7055685664273446,\n",
       "  array([-0.00397679,  0.10445276,  0.1480352 ,  0.14928239,  0.14742989,\n",
       "          0.12951866,  0.18198664, -0.10893381,  0.05311177, -0.07850576,\n",
       "         -0.02988358, -0.07488215, -0.07153121, -0.09441567, -0.12350481,\n",
       "         -0.16796413, -0.18650995, -0.18830892, -0.21415211, -0.28705491,\n",
       "         -0.28309176, -0.34791009, -0.33816868, -0.3133553 , -0.3121376 ,\n",
       "         -0.28058381])),\n",
       " (1.5571604278325748,\n",
       "  array([ 0.21392459,  0.1692514 , -0.15754318, -0.00393957, -0.09390754,\n",
       "         -0.32978894,  0.01770952,  0.03048328,  0.24526161,  0.26388129,\n",
       "          0.31874357,  0.30666976,  0.2052973 ,  0.24739552,  0.11186172,\n",
       "          0.12101308,  0.20636518,  0.1464895 ,  0.15562558,  0.10121771,\n",
       "          0.01680158, -0.07250136, -0.17472949, -0.29594075, -0.1894344 ,\n",
       "         -0.26066824])),\n",
       " (0.9448937539600634,\n",
       "  array([ 1.59668222e-01,  3.63316398e-01, -5.48300712e-02, -2.37964813e-01,\n",
       "         -1.39005841e-01,  1.27770239e-01,  3.59036686e-01,  1.46174355e-01,\n",
       "         -6.34251620e-01,  1.04367474e-01, -1.19631628e-01, -1.48637778e-01,\n",
       "          5.64988185e-02, -9.47765867e-02,  1.38418122e-01, -5.97637867e-02,\n",
       "          1.46712901e-01, -1.28929873e-02,  9.18217628e-02, -1.11449141e-04,\n",
       "          1.79487488e-01,  3.11544100e-03,  4.82121813e-02, -1.26045850e-01,\n",
       "         -4.87933621e-02, -1.71850327e-01])),\n",
       " (0.8956471747842253,\n",
       "  array([-0.01297417, -0.48125149,  0.13833108,  0.02269025,  0.07601467,\n",
       "          0.25622387, -0.24554546, -0.17413094, -0.13999024, -0.0145526 ,\n",
       "         -0.06607183, -0.02776058, -0.03512598,  0.03415352,  0.03983866,\n",
       "          0.03066812,  0.08604433,  0.02563476,  0.16899234,  0.17093731,\n",
       "          0.27114695,  0.17308374,  0.07171439, -0.10335915, -0.46700369,\n",
       "         -0.39169662])),\n",
       " (0.7363478933220948,\n",
       "  array([-0.21186901,  0.39790376, -0.05716511,  0.08836886,  0.0119182 ,\n",
       "         -0.20827863,  0.15164672,  0.0574936 ,  0.22417138, -0.2611064 ,\n",
       "         -0.05973339,  0.0366832 , -0.17424419,  0.04391979, -0.07676776,\n",
       "          0.03402871, -0.15389024, -0.08703527, -0.08375931,  0.07320825,\n",
       "          0.18865204,  0.17643101,  0.2805708 ,  0.3313813 , -0.16271418,\n",
       "         -0.47732512])),\n",
       " (0.5418657728729577,\n",
       "  array([ 1.38798501e-01, -1.61477195e-01,  4.27190673e-02, -3.94646389e-02,\n",
       "          1.40628348e-02,  6.93310752e-02, -8.10997073e-02, -1.32173375e-01,\n",
       "         -1.16951233e-01,  3.87997822e-01,  8.80766746e-02,  2.10019568e-01,\n",
       "          1.68675106e-01,  1.17963422e-01,  1.50171936e-01, -1.10103963e-03,\n",
       "         -8.92248305e-02, -1.92618496e-01, -2.72294941e-01, -4.27043536e-01,\n",
       "         -6.70070780e-02,  1.85803974e-04,  2.41998860e-01,  2.69394553e-01,\n",
       "          2.71716553e-01, -3.60819448e-01])),\n",
       " (0.45761937974751504,\n",
       "  array([-0.33285106,  0.12398587,  0.07204016,  0.07317805,  0.10722244,\n",
       "         -0.01286068,  0.03982442, -0.17745008,  0.13389556,  0.51081137,\n",
       "         -0.27842681,  0.06230452, -0.1188066 , -0.07376019, -0.18675758,\n",
       "         -0.19286873, -0.0506509 , -0.09647582,  0.16615139,  0.13146506,\n",
       "          0.08138209,  0.1582229 ,  0.16031281, -0.42140437,  0.27033746,\n",
       "         -0.04336137])),\n",
       " (0.3917007241093442,\n",
       "  array([-0.04882357,  0.10887728, -0.0388479 , -0.01280248, -0.03864715,\n",
       "         -0.0432392 , -0.00623779,  0.00930214,  0.04703008,  0.19816663,\n",
       "          0.19596545, -0.11065285,  0.21689515, -0.08685508,  0.21087683,\n",
       "         -0.13695521, -0.31778178, -0.08191268, -0.21877608, -0.14281588,\n",
       "          0.03158591,  0.4538562 ,  0.13486653, -0.1073595 , -0.47590756,\n",
       "          0.3626546 ])),\n",
       " (0.343939836811596,\n",
       "  array([ 0.06730351, -0.02686584,  0.0076624 ,  0.01810455, -0.01401301,\n",
       "          0.03316197,  0.04980429,  0.01568984, -0.02746114,  0.06024056,\n",
       "          0.38917173, -0.26115072, -0.05467104,  0.00345643, -0.3584496 ,\n",
       "         -0.11301004,  0.08847813, -0.1744108 ,  0.05907777, -0.01766326,\n",
       "          0.05437203,  0.4974243 , -0.49031779,  0.14008615,  0.2105482 ,\n",
       "         -0.15887256])),\n",
       " (0.32317868332859473,\n",
       "  array([-0.10084238,  0.04121864, -0.00896363, -0.02385093, -0.02772372,\n",
       "         -0.01854742, -0.01107293, -0.01485412,  0.22146616,  0.39135648,\n",
       "         -0.2583596 , -0.17040343, -0.0086174 , -0.25910241,  0.17707895,\n",
       "         -0.19555525,  0.44530213,  0.08657881, -0.10796012,  0.07453198,\n",
       "         -0.09187903, -0.09418533, -0.22168089,  0.45506799, -0.23358908,\n",
       "         -0.01092744])),\n",
       " (0.2786259228050198,\n",
       "  array([ 0.57008296, -0.05966256, -0.02808162, -0.01404193, -0.02054938,\n",
       "         -0.04379587, -0.00459576,  0.14587188,  0.17262339, -0.13700862,\n",
       "         -0.22317149,  0.08321679, -0.22044631, -0.05576023, -0.06972342,\n",
       "         -0.38840152,  0.14894304,  0.03010912,  0.15800326, -0.14290131,\n",
       "         -0.31953333,  0.2866797 ,  0.26522824, -0.09130405, -0.03602383,\n",
       "         -0.0367828 ])),\n",
       " (0.24425117735637253,\n",
       "  array([-0.11266487,  0.03141707, -0.00661347, -0.0184087 ,  0.01002031,\n",
       "         -0.01661548,  0.03057618, -0.06814572, -0.03891197, -0.06034189,\n",
       "         -0.11366144,  0.41798689, -0.31408388,  0.14690343,  0.23278578,\n",
       "         -0.18381258, -0.04616235, -0.06328001,  0.31708284, -0.42609075,\n",
       "          0.34553219,  0.03852516, -0.33520006,  0.12959185, -0.06267602,\n",
       "          0.19183494])),\n",
       " (0.24068106826062463,\n",
       "  array([-3.70626316e-01, -3.28338975e-02,  2.59685398e-04,  9.57806355e-02,\n",
       "          5.05630523e-02, -6.60047151e-02,  1.28749420e-01,  1.08457524e-02,\n",
       "         -8.95055355e-02, -7.14619967e-02, -6.41928852e-02, -4.73019730e-02,\n",
       "          1.04306067e-01, -1.03628065e-02, -9.58370946e-02,  3.89282169e-01,\n",
       "          3.33650219e-01,  2.43127097e-01,  1.77002344e-01, -4.89302978e-01,\n",
       "         -3.26107078e-01,  2.60959245e-01,  9.53794073e-02, -7.61598481e-02,\n",
       "         -7.94363729e-02, -2.74643320e-02])),\n",
       " (0.22195428949386503,\n",
       "  array([-0.05670782,  0.02908667, -0.01185862, -0.04342156, -0.04199437,\n",
       "          0.02822985,  0.07418188, -0.13755055, -0.12161005,  0.08430485,\n",
       "          0.26365474,  0.12928557, -0.14497573,  0.21608174, -0.42524932,\n",
       "         -0.06348272,  0.35387053, -0.4120704 ,  0.02118412,  0.02540659,\n",
       "         -0.03318103, -0.21560002,  0.30801076,  0.11400509, -0.28384147,\n",
       "          0.27219224])),\n",
       " (0.2108011509746252,\n",
       "  array([ 0.29715271,  0.01318055,  0.00808941,  0.01902064,  0.00529874,\n",
       "         -0.03260412, -0.01744123,  0.02857585,  0.14361902,  0.20381099,\n",
       "         -0.00536435, -0.15120184, -0.03153633, -0.2682172 , -0.4473276 ,\n",
       "          0.18699306, -0.12666618,  0.32263463,  0.03377757, -0.33551909,\n",
       "          0.46748805, -0.19941391,  0.09827756,  0.04446796, -0.08807569,\n",
       "          0.06536308])),\n",
       " (0.18702427816369796,\n",
       "  array([-0.0982109 ,  0.04912307,  0.02052563, -0.03306144, -0.00248736,\n",
       "          0.03257976, -0.01339638, -0.08303787, -0.13561913,  0.13635413,\n",
       "          0.26935034, -0.00929528,  0.05071054, -0.11796523, -0.04575842,\n",
       "         -0.20597135, -0.39638724,  0.23842869,  0.57904202,  0.07946635,\n",
       "         -0.34829097, -0.1559784 ,  0.0855907 ,  0.29244925, -0.08465907,\n",
       "         -0.08017124])),\n",
       " (0.17221366992449183,\n",
       "  array([-0.11746996,  0.1223166 ,  0.0481842 , -0.08086185, -0.01039431,\n",
       "          0.15788017, -0.1388076 , -0.05264233, -0.00283689,  0.04064372,\n",
       "          0.42721294, -0.14183628, -0.58963718,  0.05699696,  0.21788879,\n",
       "         -0.10932361,  0.13586443,  0.40495674, -0.2462926 , -0.06466276,\n",
       "         -0.01056561, -0.03401427,  0.14537939, -0.15013794,  0.08068083,\n",
       "         -0.04387404])),\n",
       " (0.1571697012705537,\n",
       "  array([-0.19883123, -0.07195044,  0.0346254 , -0.00265358,  0.01695357,\n",
       "          0.13466962,  0.12674781,  0.09424958, -0.07755032, -0.17419886,\n",
       "          0.11599195,  0.49384775,  0.32329722, -0.21507827, -0.24817785,\n",
       "         -0.41456167,  0.12645758,  0.35321017, -0.27001417,  0.05882779,\n",
       "          0.10707562,  0.04948274, -0.00064942, -0.00204609,  0.03045975,\n",
       "         -0.02856825])),\n",
       " (0.1350831543853989,\n",
       "  array([ 0.01609048,  0.34566931,  0.05247342, -0.35717805, -0.1700166 ,\n",
       "          0.50177316, -0.32487899, -0.0159634 ,  0.22867274, -0.06088267,\n",
       "          0.02295247,  0.25828154,  0.03444001, -0.30678417, -0.03847279,\n",
       "          0.28604952,  0.03151863, -0.17582541,  0.08790515, -0.01336375,\n",
       "         -0.09677656,  0.0879863 , -0.05172721, -0.03337437, -0.00530268,\n",
       "         -0.0293425 ])),\n",
       " (0.11004674632002004,\n",
       "  array([ 7.99117323e-02, -1.85516086e-01, -2.53655164e-02,  1.68705584e-01,\n",
       "          1.09298660e-01, -2.72833086e-01,  1.67748601e-01, -1.57328077e-02,\n",
       "         -1.67923237e-01,  5.04320287e-02,  1.97775200e-01,  2.88373045e-01,\n",
       "         -2.99954224e-01, -6.51424656e-01,  1.37711079e-01,  2.61065567e-01,\n",
       "          4.06352323e-03, -1.86963533e-01, -3.50348330e-02,  1.38602719e-01,\n",
       "         -5.37348870e-02,  4.78735541e-02,  4.20320620e-03, -1.56942167e-02,\n",
       "         -8.31311943e-05,  2.55872354e-03])),\n",
       " (0.07671549606150423,\n",
       "  array([ 0.09394307,  0.26797215, -0.0302312 ,  0.01659043, -0.05128726,\n",
       "         -0.37381439, -0.44732783, -0.61658978, -0.29852161, -0.16773507,\n",
       "         -0.11390017, -0.01103205,  0.07610583, -0.09589931, -0.0996651 ,\n",
       "         -0.08793224,  0.0634894 ,  0.08804103, -0.10219734, -0.0218054 ,\n",
       "         -0.03249811,  0.05678224, -0.07310359, -0.00920878,  0.00897618,\n",
       "          0.00572959])),\n",
       " (0.03618211617114014,\n",
       "  array([-0.00502201,  0.23891361,  0.2235371 ,  0.19488882,  0.49106513,\n",
       "         -0.08638628, -0.48279111,  0.5401793 , -0.22911514,  0.09767428,\n",
       "          0.01299116,  0.05466578,  0.01897356,  0.03770031, -0.03985479,\n",
       "         -0.02095179,  0.06297521, -0.0646752 ,  0.01745011, -0.0072932 ,\n",
       "         -0.00255942, -0.02489795, -0.02209123,  0.02408666, -0.04598725,\n",
       "          0.01184673])),\n",
       " (0.010043887009406378,\n",
       "  array([ 0.01301913,  0.09317612, -0.39305806,  0.73698949, -0.39426999,\n",
       "          0.30557591, -0.15339603,  0.07061598, -0.09807495,  0.05790103,\n",
       "         -0.02436259,  0.03481222, -0.021912  , -0.00907775,  0.00613576,\n",
       "         -0.01040256,  0.00466735, -0.00864202,  0.01163815, -0.00324436,\n",
       "         -0.00118378, -0.01689926,  0.00532778,  0.00141248,  0.010177  ,\n",
       "         -0.00311467])),\n",
       " (0.002904702914601362,\n",
       "  array([-0.02104905, -0.004744  ,  0.75858823,  0.14353018, -0.59399121,\n",
       "         -0.18206475, -0.01088461,  0.12407886, -0.01771773,  0.01835907,\n",
       "         -0.00201343,  0.02648915, -0.01447884,  0.00872812,  0.00637905,\n",
       "          0.0080149 , -0.00488979, -0.00999552,  0.00496188,  0.00222828,\n",
       "         -0.00124977, -0.00140978,  0.00362759, -0.00448031,  0.00185997,\n",
       "          0.00701091]))]"
      ]
     },
     "execution_count": 12,
     "metadata": {},
     "output_type": "execute_result"
    }
   ],
   "source": [
    "# Ordenar los eigenvalores\n",
    "\n",
    "# Make a list of (eigenvalue, eigenvector) tuples\n",
    "eigen_pairs = [(np.abs(eigen_vals[i]), eigen_vecs[:, i]) for i in range(len(eigen_vals))]\n",
    "\n",
    "# sort the (eigenvalue, eigenvector) tuples from high to low\n",
    "eigen_pairs.sort(key=lambda k: k[0], reverse=True)\n",
    "eigen_pairs"
   ]
  },
  {
   "cell_type": "code",
   "execution_count": 13,
   "metadata": {},
   "outputs": [],
   "source": [
    "#Matriz de 26 x 6 de los primeros 6 eigenvectores\n",
    "matriz_w = np.hstack((eigen_pairs[0][1][:, np.newaxis], eigen_pairs[1][1][:, np.newaxis]))\n",
    "\n",
    "for i in range(2,6):\n",
    "    matriz_w = np.hstack((matriz_w, eigen_pairs[i][1][:, np.newaxis]))"
   ]
  },
  {
   "cell_type": "code",
   "execution_count": 14,
   "metadata": {},
   "outputs": [
    {
     "data": {
      "text/plain": [
       "array([[ 1.57505822e-01, -2.57041725e-01, -3.97679240e-03,\n",
       "         2.13924590e-01,  1.59668222e-01, -1.29741689e-02],\n",
       "       [ 5.56171110e-02, -2.42912292e-01,  1.04452757e-01,\n",
       "         1.69251396e-01,  3.63316398e-01, -4.81251494e-01],\n",
       "       [ 5.74533014e-02, -3.55923430e-01,  1.48035198e-01,\n",
       "        -1.57543183e-01, -5.48300712e-02,  1.38331082e-01],\n",
       "       [-1.50955966e-02, -3.56233346e-01,  1.49282388e-01,\n",
       "        -3.93956816e-03, -2.37964813e-01,  2.26902453e-02],\n",
       "       [ 4.59288151e-02, -3.60230943e-01,  1.47429892e-01,\n",
       "        -9.39075395e-02, -1.39005841e-01,  7.60146700e-02],\n",
       "       [ 1.19749283e-01, -2.72048578e-01,  1.29518657e-01,\n",
       "        -3.29788941e-01,  1.27770239e-01,  2.56223871e-01],\n",
       "       [ 1.39253569e-01, -2.73492388e-01,  1.81986641e-01,\n",
       "         1.77095169e-02,  3.59036686e-01, -2.45545455e-01],\n",
       "       [-5.02278025e-02,  3.50696709e-01, -1.08933810e-01,\n",
       "         3.04832751e-02,  1.46174355e-01, -1.74130940e-01],\n",
       "       [-1.81856932e-01, -1.30478707e-01,  5.31117727e-02,\n",
       "         2.45261608e-01, -6.34251620e-01, -1.39990242e-01],\n",
       "       [ 2.38815115e-01,  7.73977398e-02, -7.85057553e-02,\n",
       "         2.63881288e-01,  1.04367474e-01, -1.45526010e-02],\n",
       "       [-2.47225851e-01, -1.18211596e-01, -2.98835849e-02,\n",
       "         3.18743574e-01, -1.19631628e-01, -6.60718347e-02],\n",
       "       [ 2.75939687e-01,  9.44076340e-03, -7.48821468e-02,\n",
       "         3.06669760e-01, -1.48637778e-01, -2.77605814e-02],\n",
       "       [-2.47651808e-01, -1.76188038e-01, -7.15312072e-02,\n",
       "         2.05297297e-01,  5.64988185e-02, -3.51259835e-02],\n",
       "       [ 2.93972435e-01, -3.51895078e-02, -9.44156676e-02,\n",
       "         2.47395523e-01, -9.47765867e-02,  3.41535194e-02],\n",
       "       [-2.24224101e-01, -2.02964795e-01, -1.23504805e-01,\n",
       "         1.11861724e-01,  1.38418122e-01,  3.98386589e-02],\n",
       "       [ 2.84138168e-01, -6.34791895e-02, -1.67964133e-01,\n",
       "         1.21013077e-01, -5.97637867e-02,  3.06681190e-02],\n",
       "       [-2.22367916e-01, -1.59383779e-01, -1.86509950e-01,\n",
       "         2.06365180e-01,  1.46712901e-01,  8.60443336e-02],\n",
       "       [ 2.80030533e-01, -6.11531624e-02, -1.88308921e-01,\n",
       "         1.46489496e-01, -1.28929873e-02,  2.56347622e-02],\n",
       "       [-2.46318952e-01, -1.15476570e-01, -2.14152108e-01,\n",
       "         1.55625584e-01,  9.18217628e-02,  1.68992343e-01],\n",
       "       [ 2.28559122e-01, -7.82503361e-02, -2.87054914e-01,\n",
       "         1.01217714e-01, -1.11449141e-04,  1.70937308e-01],\n",
       "       [-2.27086015e-01, -9.73951701e-02, -2.83091764e-01,\n",
       "         1.68015783e-02,  1.79487488e-01,  2.71146949e-01],\n",
       "       [ 2.00405620e-01, -7.07386025e-02, -3.47910093e-01,\n",
       "        -7.25013618e-02,  3.11544100e-03,  1.73083739e-01],\n",
       "       [-1.89019304e-01, -8.84842530e-02, -3.38168675e-01,\n",
       "        -1.74729492e-01,  4.82121813e-02,  7.17143864e-02],\n",
       "       [ 1.53779118e-01, -9.88859526e-02, -3.13355299e-01,\n",
       "        -2.95940752e-01, -1.26045850e-01, -1.03359149e-01],\n",
       "       [-1.52461241e-01, -8.60358013e-02, -3.12137601e-01,\n",
       "        -1.89434402e-01, -4.87933621e-02, -4.67003690e-01],\n",
       "       [ 9.45936766e-02, -1.30739160e-01, -2.80583809e-01,\n",
       "        -2.60668244e-01, -1.71850327e-01, -3.91696617e-01]])"
      ]
     },
     "execution_count": 14,
     "metadata": {},
     "output_type": "execute_result"
    }
   ],
   "source": [
    "matriz_w"
   ]
  },
  {
   "cell_type": "code",
   "execution_count": 15,
   "metadata": {},
   "outputs": [
    {
     "data": {
      "text/plain": [
       "(26, 6)"
      ]
     },
     "execution_count": 15,
     "metadata": {},
     "output_type": "execute_result"
    }
   ],
   "source": [
    "matriz_w.shape"
   ]
  },
  {
   "cell_type": "code",
   "execution_count": 16,
   "metadata": {},
   "outputs": [
    {
     "data": {
      "text/plain": [
       "array([[-0.07595433,  3.44713347,  1.78783014,  1.87526523, -2.15557597,\n",
       "        -1.49797127],\n",
       "       [ 2.50764073,  1.31811374,  1.60820652,  2.98919535, -1.6004027 ,\n",
       "        -0.90720853],\n",
       "       [ 4.04184795,  0.74656738,  1.02655678,  0.82345323, -1.31246192,\n",
       "        -0.69504844],\n",
       "       ...,\n",
       "       [ 3.27952521,  0.26366683, -0.48103871,  0.6777984 ,  0.04750238,\n",
       "         0.21477341],\n",
       "       [ 5.46414852, -0.72642423, -0.07276976, -2.15634865, -1.03682028,\n",
       "         0.73414369],\n",
       "       [-2.78701796, -0.17699565,  0.13127891,  0.25785926,  0.40081355,\n",
       "         0.35506819]])"
      ]
     },
     "execution_count": 16,
     "metadata": {},
     "output_type": "execute_result"
    }
   ],
   "source": [
    "# Convertir de 1000 x 26 a 1000 * 6\n",
    "x_transformado = x.dot(matriz_w)\n",
    "x_transformado"
   ]
  },
  {
   "cell_type": "code",
   "execution_count": 17,
   "metadata": {},
   "outputs": [
    {
     "data": {
      "text/plain": [
       "(1000, 6)"
      ]
     },
     "execution_count": 17,
     "metadata": {},
     "output_type": "execute_result"
    }
   ],
   "source": [
    "x_transformado.shape"
   ]
  },
  {
   "cell_type": "code",
   "execution_count": 18,
   "metadata": {},
   "outputs": [
    {
     "data": {
      "text/plain": [
       "\"\\n# les's visualize the transformed Wine training set.\\ncolors = ['C0', 'C1', 'C2', 'C3', 'C4', 'C5', 'C6', 'C7', 'C8', 'C9']\\nmarkers = ['o', 'v', '8', 's', 'p', '*', 'h', 'd', '^', 'x']\\nfor l, c, m in zip(np.unique(y), colors, markers):\\n    plt.scatter(x_transformado[y==l, 0], x_transformado[y==l, 1], c=c, label=l, marker=m)\\n    \\nplt.xlabel('PC 1')\\nplt.ylabel('PC 2')\\nplt.legend(loc='lower left')\\nplt.show()\\n\\n\""
      ]
     },
     "execution_count": 18,
     "metadata": {},
     "output_type": "execute_result"
    }
   ],
   "source": [
    "#Visualizamos los datos\n",
    "'''\n",
    "# les's visualize the transformed Wine training set.\n",
    "colors = ['C0', 'C1', 'C2', 'C3', 'C4', 'C5', 'C6', 'C7', 'C8', 'C9']\n",
    "markers = ['o', 'v', '8', 's', 'p', '*', 'h', 'd', '^', 'x']\n",
    "for l, c, m in zip(np.unique(y), colors, markers):\n",
    "    plt.scatter(x_transformado[y==l, 0], x_transformado[y==l, 1], c=c, label=l, marker=m)\n",
    "    \n",
    "plt.xlabel('PC 1')\n",
    "plt.ylabel('PC 2')\n",
    "plt.legend(loc='lower left')\n",
    "plt.show()\n",
    "\n",
    "'''"
   ]
  },
  {
   "cell_type": "code",
   "execution_count": 19,
   "metadata": {},
   "outputs": [
    {
     "name": "stderr",
     "output_type": "stream",
     "text": [
      "/home/alopolisia/.local/lib/python3.6/site-packages/sklearn/model_selection/_split.py:2179: FutureWarning: From version 0.21, test_size will always complement train_size unless both are specified.\n",
      "  FutureWarning)\n"
     ]
    }
   ],
   "source": [
    "from sklearn.model_selection import train_test_split\n",
    "\n",
    "#Dividir training set y testing set\n",
    "x_train, x_test, y_train, y_test = train_test_split(x_transformado, y , train_size = 0.8, random_state =  1997)"
   ]
  },
  {
   "cell_type": "code",
   "execution_count": 20,
   "metadata": {},
   "outputs": [
    {
     "data": {
      "text/plain": [
       "(800, 6)"
      ]
     },
     "execution_count": 20,
     "metadata": {},
     "output_type": "execute_result"
    }
   ],
   "source": [
    "x_train.shape"
   ]
  },
  {
   "cell_type": "markdown",
   "metadata": {},
   "source": [
    "# GridSearchCV"
   ]
  },
  {
   "cell_type": "code",
   "execution_count": 21,
   "metadata": {},
   "outputs": [],
   "source": [
    "#Aplicamos gridshearch cv para encontrar los mejores parametros de KNN\n",
    "\n",
    "from sklearn.pipeline import Pipeline\n",
    "from sklearn.neighbors import KNeighborsClassifier\n",
    "from sklearn.ensemble import RandomForestClassifier\n",
    "from sklearn.svm import SVC\n",
    "\n",
    "\n",
    "#Pipeline de KNeighbors\n",
    "pipeline_kn = Pipeline([\n",
    "    ('kn', KNeighborsClassifier())\n",
    "])\n",
    "\n",
    "#Parametros de KNeighbors\n",
    "parametro_kn = {'kn__n_neighbors': [1,2,4,6,8,10], 'kn__weights':['uniform', 'distance']}\n",
    "\n",
    "\n",
    "#Pipeline de KNeighbors\n",
    "pipeline_r = Pipeline([\n",
    "    ('r', RandomForestClassifier())\n",
    "])\n",
    "\n",
    "#Parametros de RandomForest\n",
    "parametro_r = {\n",
    "    'r__bootstrap': [True],\n",
    "    'r__max_depth': [10, 50, 100],\n",
    "    'r__max_features': [2, 3],\n",
    "    'r__min_samples_leaf': [3, 5],\n",
    "    'r__min_samples_split': [2, 7],\n",
    "    'r__n_estimators': [100, 200, 300]\n",
    "}\n",
    "\n",
    "\n",
    "#Pipeline de Maquina de Soporte Vectorial\n",
    "pipeline_svm = Pipeline([\n",
    "    ('svm', SVC())\n",
    "])\n",
    "\n",
    "parametro_svm = [\n",
    "        {'svm__kernel': ['linear'], 'svm__C': [10., 100., 1000.0, 10000.0]},\n",
    "        {'svm__kernel': ['rbf'], 'svm__C': [1.0, 10., 100., 1000.0, 10000.0],\n",
    "         'svm__gamma': [0.01, 0.1, 1.0]},\n",
    "    ]"
   ]
  },
  {
   "cell_type": "code",
   "execution_count": 22,
   "metadata": {},
   "outputs": [
    {
     "name": "stdout",
     "output_type": "stream",
     "text": [
      "Fitting 10 folds for each of 12 candidates, totalling 120 fits\n"
     ]
    },
    {
     "name": "stderr",
     "output_type": "stream",
     "text": [
      "[Parallel(n_jobs=-1)]: Using backend LokyBackend with 8 concurrent workers.\n",
      "[Parallel(n_jobs=-1)]: Done  16 tasks      | elapsed:    1.4s\n",
      "[Parallel(n_jobs=-1)]: Done 120 out of 120 | elapsed:    2.1s finished\n",
      "/home/alopolisia/.local/lib/python3.6/site-packages/sklearn/model_selection/_search.py:841: DeprecationWarning: The default of the `iid` parameter will change from True to False in version 0.22 and will be removed in 0.24. This will change numeric results when test-set sizes are unequal.\n",
      "  DeprecationWarning)\n"
     ]
    },
    {
     "data": {
      "text/plain": [
       "GridSearchCV(cv=10, error_score='raise-deprecating',\n",
       "       estimator=Pipeline(memory=None,\n",
       "     steps=[('kn', KNeighborsClassifier(algorithm='auto', leaf_size=30, metric='minkowski',\n",
       "           metric_params=None, n_jobs=None, n_neighbors=5, p=2,\n",
       "           weights='uniform'))]),\n",
       "       fit_params=None, iid='warn', n_jobs=-1,\n",
       "       param_grid={'kn__n_neighbors': [1, 2, 4, 6, 8, 10], 'kn__weights': ['uniform', 'distance']},\n",
       "       pre_dispatch='2*n_jobs', refit=True, return_train_score=True,\n",
       "       scoring=None, verbose=3)"
      ]
     },
     "execution_count": 22,
     "metadata": {},
     "output_type": "execute_result"
    }
   ],
   "source": [
    "from sklearn.model_selection import GridSearchCV\n",
    "\n",
    "gridCV_kn = GridSearchCV(pipeline_kn, param_grid = parametro_kn, cv=10, n_jobs = -1, verbose = 3, return_train_score=True)\n",
    "\n",
    "gridCV_kn.fit(x_train, y_train)"
   ]
  },
  {
   "cell_type": "code",
   "execution_count": 23,
   "metadata": {},
   "outputs": [
    {
     "data": {
      "text/plain": [
       "{'kn__n_neighbors': 10, 'kn__weights': 'distance'}"
      ]
     },
     "execution_count": 23,
     "metadata": {},
     "output_type": "execute_result"
    }
   ],
   "source": [
    "gridCV_kn.best_params_"
   ]
  },
  {
   "cell_type": "code",
   "execution_count": 24,
   "metadata": {},
   "outputs": [
    {
     "data": {
      "text/plain": [
       "0.5275"
      ]
     },
     "execution_count": 24,
     "metadata": {},
     "output_type": "execute_result"
    }
   ],
   "source": [
    "#Score del vecino\n",
    "gridCV_kn.best_score_"
   ]
  },
  {
   "cell_type": "code",
   "execution_count": 25,
   "metadata": {},
   "outputs": [
    {
     "name": "stdout",
     "output_type": "stream",
     "text": [
      "Fitting 5 folds for each of 72 candidates, totalling 360 fits\n"
     ]
    },
    {
     "name": "stderr",
     "output_type": "stream",
     "text": [
      "[Parallel(n_jobs=-1)]: Using backend LokyBackend with 8 concurrent workers.\n",
      "[Parallel(n_jobs=-1)]: Done  16 tasks      | elapsed:    1.3s\n",
      "[Parallel(n_jobs=-1)]: Done 112 tasks      | elapsed:    8.7s\n",
      "[Parallel(n_jobs=-1)]: Done 272 tasks      | elapsed:   21.0s\n",
      "[Parallel(n_jobs=-1)]: Done 360 out of 360 | elapsed:   28.4s finished\n",
      "/home/alopolisia/.local/lib/python3.6/site-packages/sklearn/model_selection/_search.py:841: DeprecationWarning: The default of the `iid` parameter will change from True to False in version 0.22 and will be removed in 0.24. This will change numeric results when test-set sizes are unequal.\n",
      "  DeprecationWarning)\n"
     ]
    },
    {
     "data": {
      "text/plain": [
       "GridSearchCV(cv=5, error_score='raise-deprecating',\n",
       "       estimator=Pipeline(memory=None,\n",
       "     steps=[('r', RandomForestClassifier(bootstrap=True, class_weight=None, criterion='gini',\n",
       "            max_depth=None, max_features='auto', max_leaf_nodes=None,\n",
       "            min_impurity_decrease=0.0, min_impurity_split=None,\n",
       "            min_samples_leaf=1, min_samples_split=2,\n",
       "            min_weight_fraction_leaf=0.0, n_estimators='warn', n_jobs=None,\n",
       "            oob_score=False, random_state=None, verbose=0,\n",
       "            warm_start=False))]),\n",
       "       fit_params=None, iid='warn', n_jobs=-1,\n",
       "       param_grid={'r__bootstrap': [True], 'r__max_depth': [10, 50, 100], 'r__max_features': [2, 3], 'r__min_samples_leaf': [3, 5], 'r__min_samples_split': [2, 7], 'r__n_estimators': [100, 200, 300]},\n",
       "       pre_dispatch='2*n_jobs', refit=True, return_train_score=True,\n",
       "       scoring=None, verbose=3)"
      ]
     },
     "execution_count": 25,
     "metadata": {},
     "output_type": "execute_result"
    }
   ],
   "source": [
    "gridCV_r = GridSearchCV(pipeline_r, param_grid = parametro_r, cv=5, n_jobs = -1, verbose = 3, return_train_score=True)\n",
    "\n",
    "gridCV_r.fit(x_train, y_train)"
   ]
  },
  {
   "cell_type": "code",
   "execution_count": 26,
   "metadata": {},
   "outputs": [
    {
     "data": {
      "text/plain": [
       "{'r__bootstrap': True,\n",
       " 'r__max_depth': 100,\n",
       " 'r__max_features': 2,\n",
       " 'r__min_samples_leaf': 3,\n",
       " 'r__min_samples_split': 2,\n",
       " 'r__n_estimators': 100}"
      ]
     },
     "execution_count": 26,
     "metadata": {},
     "output_type": "execute_result"
    }
   ],
   "source": [
    "gridCV_r.best_params_"
   ]
  },
  {
   "cell_type": "code",
   "execution_count": 27,
   "metadata": {},
   "outputs": [
    {
     "data": {
      "text/plain": [
       "0.52125"
      ]
     },
     "execution_count": 27,
     "metadata": {},
     "output_type": "execute_result"
    }
   ],
   "source": [
    "#Score de random forest\n",
    "gridCV_r.best_score_"
   ]
  },
  {
   "cell_type": "code",
   "execution_count": 28,
   "metadata": {},
   "outputs": [
    {
     "name": "stdout",
     "output_type": "stream",
     "text": [
      "Fitting 5 folds for each of 19 candidates, totalling 95 fits\n"
     ]
    },
    {
     "name": "stderr",
     "output_type": "stream",
     "text": [
      "[Parallel(n_jobs=-1)]: Using backend LokyBackend with 8 concurrent workers.\n",
      "[Parallel(n_jobs=-1)]: Done  16 tasks      | elapsed:   17.3s\n",
      "[Parallel(n_jobs=-1)]: Done  95 out of  95 | elapsed:  3.9min finished\n",
      "/home/alopolisia/.local/lib/python3.6/site-packages/sklearn/model_selection/_search.py:841: DeprecationWarning: The default of the `iid` parameter will change from True to False in version 0.22 and will be removed in 0.24. This will change numeric results when test-set sizes are unequal.\n",
      "  DeprecationWarning)\n"
     ]
    },
    {
     "data": {
      "text/plain": [
       "GridSearchCV(cv=5, error_score='raise-deprecating',\n",
       "       estimator=Pipeline(memory=None,\n",
       "     steps=[('svm', SVC(C=1.0, cache_size=200, class_weight=None, coef0=0.0,\n",
       "  decision_function_shape='ovr', degree=3, gamma='auto_deprecated',\n",
       "  kernel='rbf', max_iter=-1, probability=False, random_state=None,\n",
       "  shrinking=True, tol=0.001, verbose=False))]),\n",
       "       fit_params=None, iid='warn', n_jobs=-1,\n",
       "       param_grid=[{'svm__kernel': ['linear'], 'svm__C': [10.0, 100.0, 1000.0, 10000.0]}, {'svm__kernel': ['rbf'], 'svm__C': [1.0, 10.0, 100.0, 1000.0, 10000.0], 'svm__gamma': [0.01, 0.1, 1.0]}],\n",
       "       pre_dispatch='2*n_jobs', refit=True, return_train_score=True,\n",
       "       scoring=None, verbose=3)"
      ]
     },
     "execution_count": 28,
     "metadata": {},
     "output_type": "execute_result"
    }
   ],
   "source": [
    "gridCV_svm = GridSearchCV(pipeline_svm, param_grid = parametro_svm, cv=5, n_jobs = -1, verbose = 3, return_train_score=True)\n",
    "\n",
    "gridCV_svm.fit(x_train, y_train)"
   ]
  },
  {
   "cell_type": "code",
   "execution_count": 29,
   "metadata": {},
   "outputs": [
    {
     "data": {
      "text/plain": [
       "{'svm__C': 100.0, 'svm__gamma': 0.01, 'svm__kernel': 'rbf'}"
      ]
     },
     "execution_count": 29,
     "metadata": {},
     "output_type": "execute_result"
    }
   ],
   "source": [
    "gridCV_svm.best_params_"
   ]
  },
  {
   "cell_type": "code",
   "execution_count": 30,
   "metadata": {},
   "outputs": [
    {
     "data": {
      "text/plain": [
       "0.55"
      ]
     },
     "execution_count": 30,
     "metadata": {},
     "output_type": "execute_result"
    }
   ],
   "source": [
    "#Score de svm\n",
    "gridCV_svm.best_score_"
   ]
  },
  {
   "cell_type": "code",
   "execution_count": 31,
   "metadata": {},
   "outputs": [],
   "source": [
    "# Entrenar con los mejores parametros\n",
    "elvecinochido = KNeighborsClassifier(10, 'distance')"
   ]
  },
  {
   "cell_type": "code",
   "execution_count": 32,
   "metadata": {},
   "outputs": [
    {
     "data": {
      "text/plain": [
       "KNeighborsClassifier(algorithm='auto', leaf_size=30, metric='minkowski',\n",
       "           metric_params=None, n_jobs=None, n_neighbors=10, p=2,\n",
       "           weights='distance')"
      ]
     },
     "execution_count": 32,
     "metadata": {},
     "output_type": "execute_result"
    }
   ],
   "source": [
    "elvecinochido.fit(x_train, y_train)"
   ]
  },
  {
   "cell_type": "code",
   "execution_count": 33,
   "metadata": {},
   "outputs": [],
   "source": [
    "bosquechido = RandomForestClassifier(bootstrap = True, max_depth = 100, max_features = 2, min_samples_leaf = 3, min_samples_split = 2, n_estimators = 100)"
   ]
  },
  {
   "cell_type": "code",
   "execution_count": 34,
   "metadata": {},
   "outputs": [
    {
     "data": {
      "text/plain": [
       "RandomForestClassifier(bootstrap=True, class_weight=None, criterion='gini',\n",
       "            max_depth=100, max_features=2, max_leaf_nodes=None,\n",
       "            min_impurity_decrease=0.0, min_impurity_split=None,\n",
       "            min_samples_leaf=3, min_samples_split=2,\n",
       "            min_weight_fraction_leaf=0.0, n_estimators=100, n_jobs=None,\n",
       "            oob_score=False, random_state=None, verbose=0,\n",
       "            warm_start=False)"
      ]
     },
     "execution_count": 34,
     "metadata": {},
     "output_type": "execute_result"
    }
   ],
   "source": [
    "bosquechido.fit(x_train, y_train)"
   ]
  },
  {
   "cell_type": "code",
   "execution_count": 35,
   "metadata": {},
   "outputs": [],
   "source": [
    "svmchido = SVC(C=100.0, gamma=0.01, kernel='rbf')"
   ]
  },
  {
   "cell_type": "code",
   "execution_count": 36,
   "metadata": {},
   "outputs": [
    {
     "data": {
      "text/plain": [
       "SVC(C=100.0, cache_size=200, class_weight=None, coef0=0.0,\n",
       "  decision_function_shape='ovr', degree=3, gamma=0.01, kernel='rbf',\n",
       "  max_iter=-1, probability=False, random_state=None, shrinking=True,\n",
       "  tol=0.001, verbose=False)"
      ]
     },
     "execution_count": 36,
     "metadata": {},
     "output_type": "execute_result"
    }
   ],
   "source": [
    "svmchido.fit(x_train, y_train)"
   ]
  },
  {
   "cell_type": "markdown",
   "metadata": {},
   "source": [
    "# Precision, Recall y F1 de K - Neighbors"
   ]
  },
  {
   "cell_type": "code",
   "execution_count": 37,
   "metadata": {},
   "outputs": [],
   "source": [
    "from sklearn.metrics import precision_score, recall_score, f1_score\n",
    "\n",
    "elvecinochido_predict = elvecinochido.predict(x_test)\n",
    "bosquechido_predict = bosquechido.predict(x_test)\n",
    "svmchido_predict = svmchido.predict(x_test)"
   ]
  },
  {
   "cell_type": "code",
   "execution_count": 38,
   "metadata": {},
   "outputs": [],
   "source": [
    "p_vecino = precision_score(y_test, elvecinochido_predict, average='micro')\n",
    "r_vecino = recall_score(y_test, elvecinochido_predict, average='micro')\n",
    "f_vecino = f1_score(y_test, elvecinochido_predict, average='micro')\n",
    "\n",
    "p_bosque = precision_score(y_test, bosquechido_predict, average='micro')\n",
    "r_bosque = recall_score(y_test, bosquechido_predict, average='micro')\n",
    "f_bosque = f1_score(y_test, bosquechido_predict, average='micro')\n",
    "\n",
    "p_svm = precision_score(y_test, svmchido_predict, average='micro')\n",
    "r_svm = recall_score(y_test, svmchido_predict, average='micro')\n",
    "f_svm = f1_score(y_test, svmchido_predict, average='micro')"
   ]
  },
  {
   "cell_type": "code",
   "execution_count": 39,
   "metadata": {},
   "outputs": [
    {
     "data": {
      "image/png": "[encoded data removed]",
      "text/plain": [
       "<Figure size 432x288 with 1 Axes>"
      ]
     },
     "metadata": {
      "needs_background": "light"
     },
     "output_type": "display_data"
    }
   ],
   "source": [
    "#La tabla de comparacion :v\n",
    "import pandas as pd\n",
    "fig, ax = plt.subplots()\n",
    "\n",
    "ax.axis('off')\n",
    "ax.axis('tight')\n",
    "\n",
    "columnas = ('K-Neighbors', 'Random Forest', 'SVM')\n",
    "filas = ('Precision Score', 'Recall Score', 'F1 Score')\n",
    "valores=[[p_vecino,p_bosque,p_svm],[r_vecino, r_bosque, r_svm],[f_vecino, f_bosque, f_svm]]\n",
    "#valores=[[prom_pv,prom_pb],[prom_rv, prom_rb],[prom_fv, prom_fb]]\n",
    "\n",
    "df = pd.DataFrame(valores, columns=columnas, index= filas)\n",
    "\n",
    "ax.table(cellText=df.values, colLabels=df.columns, rowLabels=df.index, loc='center')\n",
    "\n",
    "fig.tight_layout()\n",
    "\n",
    "plt.show()"
   ]
  },
  {
   "cell_type": "markdown",
   "metadata": {},
   "source": [
    "# Conclusión"
   ]
  },
  {
   "cell_type": "markdown",
   "metadata": {},
   "source": [
    "En conclusión el problema de la clasificación de género de musica es un problema un poco más complejo, ya que las características que se extrayeron a través de los espectrogramas llegaron a ser 26 caracteristicas, aunque pudieron ser reducidas a 6 caracteristicas mediante el uso de la técnica Principal Component Analysis. Sin embargo, no existe una diferencia significante en los resultados que se obtuvieron aplicando PCA o con todas las 26 caracteristicas originales."
   ]
  },
  {
   "cell_type": "code",
   "execution_count": null,
   "metadata": {},
   "outputs": [],
   "source": []
  }
 ],
 "metadata": {
  "kernelspec": {
   "display_name": "Python 3",
   "language": "python",
   "name": "python3"
  },
  "language_info": {
   "codemirror_mode": {
    "name": "ipython",
    "version": 3
   },
   "file_extension": ".py",
   "mimetype": "text/x-python",
   "name": "python",
   "nbconvert_exporter": "python",
   "pygments_lexer": "ipython3",
   "version": "3.6.7"
  }
 },
 "nbformat": 4,
 "nbformat_minor": 2
}
