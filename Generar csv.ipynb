{
 "cells": [
  {
   "cell_type": "code",
   "execution_count": 1,
   "metadata": {},
   "outputs": [],
   "source": [
    "# feature extractoring and preprocessing data\n",
    "import librosa\n",
    "import pandas as pd\n",
    "import numpy as np\n",
    "import matplotlib.pyplot as plt\n",
    "%matplotlib inline\n",
    "import os\n",
    "from PIL import Image\n",
    "import pathlib\n",
    "import csv\n",
    "\n",
    "# Preprocessing\n",
    "from sklearn.model_selection import train_test_split\n",
    "from sklearn.preprocessing import LabelEncoder, StandardScaler"
   ]
  },
  {
   "cell_type": "code",
   "execution_count": 6,
   "metadata": {},
   "outputs": [
    {
     "name": "stderr",
     "output_type": "stream",
     "text": [
      "/home/alopolisia/.local/lib/python3.6/site-packages/matplotlib/axes/_axes.py:7609: RuntimeWarning: divide by zero encountered in log10\n",
      "  Z = 10. * np.log10(spec)\n"
     ]
    },
    {
     "data": {
      "text/plain": [
       "<Figure size 720x720 with 0 Axes>"
      ]
     },
     "metadata": {},
     "output_type": "display_data"
    }
   ],
   "source": [
    "cmap = plt.get_cmap('inferno')\n",
    "\n",
    "plt.figure(figsize=(10,10))\n",
    "generos = ['Blues', 'Classical', 'Country', 'Disco', 'Hiphop', 'Jazz', 'Metal', 'Pop', 'Reggae', 'Rock']\n",
    "\n",
    "for g in generos:\n",
    "    pathlib.Path(f'img_data/{g}').mkdir(parents=True, exist_ok=True)     \n",
    "    for filename in os.listdir(f'GTZAN/{g}'):\n",
    "        songname = f'GTZAN/{g}/{filename}'\n",
    "        y, sr = librosa.load(songname, mono=True, duration=5)\n",
    "        plt.specgram(y, NFFT=2048, Fs=2, Fc=0, noverlap=128, cmap=cmap, sides='default', mode='default', scale='dB');\n",
    "        plt.axis('off');\n",
    "        plt.savefig(f'img_data/{g}/{filename[:-3].replace(\".\", \"\")}.png')\n",
    "        plt.clf()"
   ]
  },
  {
   "cell_type": "markdown",
   "metadata": {},
   "source": [
    "# Extraer Caracteristicas"
   ]
  },
  {
   "cell_type": "markdown",
   "metadata": {},
   "source": [
    "Extraer las siguientes caracteristicas a partir de las espectrogramas.\n",
    "* Mel-frequency cepstral coefficients (MFCC)(20 in number)\n",
    "* Spectral Centroid,\n",
    "* Zero Crossing Rate\n",
    "* Chroma Frequencies\n",
    "* Spectral Roll-off."
   ]
  },
  {
   "cell_type": "code",
   "execution_count": 7,
   "metadata": {},
   "outputs": [],
   "source": [
    "header = 'filename chroma_stft rmse spectral_centroid spectral_bandwidth rolloff zero_crossing_rate'\n",
    "for i in range(1, 21):\n",
    "    header += f' mfcc{i}'\n",
    "header += ' label'\n",
    "header = header.split()"
   ]
  },
  {
   "cell_type": "code",
   "execution_count": 8,
   "metadata": {},
   "outputs": [
    {
     "data": {
      "text/plain": [
       "['filename',\n",
       " 'chroma_stft',\n",
       " 'rmse',\n",
       " 'spectral_centroid',\n",
       " 'spectral_bandwidth',\n",
       " 'rolloff',\n",
       " 'zero_crossing_rate',\n",
       " 'mfcc1',\n",
       " 'mfcc2',\n",
       " 'mfcc3',\n",
       " 'mfcc4',\n",
       " 'mfcc5',\n",
       " 'mfcc6',\n",
       " 'mfcc7',\n",
       " 'mfcc8',\n",
       " 'mfcc9',\n",
       " 'mfcc10',\n",
       " 'mfcc11',\n",
       " 'mfcc12',\n",
       " 'mfcc13',\n",
       " 'mfcc14',\n",
       " 'mfcc15',\n",
       " 'mfcc16',\n",
       " 'mfcc17',\n",
       " 'mfcc18',\n",
       " 'mfcc19',\n",
       " 'mfcc20',\n",
       " 'label']"
      ]
     },
     "execution_count": 8,
     "metadata": {},
     "output_type": "execute_result"
    }
   ],
   "source": [
    "header"
   ]
  },
  {
   "cell_type": "markdown",
   "metadata": {},
   "source": [
    "# Extraer las caracteristicas y guardarlas en un archivo CSV"
   ]
  },
  {
   "cell_type": "code",
   "execution_count": 18,
   "metadata": {},
   "outputs": [],
   "source": [
    "file = open('dataset.csv', 'w', newline='')\n",
    "with file:\n",
    "    writer = csv.writer(file)\n",
    "    writer.writerow(header)\n",
    "\n",
    "for g in generos:\n",
    "    for filename in os.listdir(f'GTZAN/{g}'):\n",
    "        songname = f'GTZAN/{g}/{filename}'\n",
    "        y, sr = librosa.load(songname, mono=True, duration=30)\n",
    "        chroma_stft = librosa.feature.chroma_stft(y=y, sr=sr)\n",
    "        rmse = librosa.feature.rmse(y=y)\n",
    "        spec_cent = librosa.feature.spectral_centroid(y=y, sr=sr)\n",
    "        spec_bw = librosa.feature.spectral_bandwidth(y=y, sr=sr)\n",
    "        rolloff = librosa.feature.spectral_rolloff(y=y, sr=sr)\n",
    "        zcr = librosa.feature.zero_crossing_rate(y)\n",
    "        mfcc = librosa.feature.mfcc(y=y, sr=sr)\n",
    "        to_append = f'{filename} {np.mean(chroma_stft)} {np.mean(rmse)} {np.mean(spec_cent)} {np.mean(spec_bw)} {np.mean(rolloff)} {np.mean(zcr)}'    \n",
    "        for e in mfcc:\n",
    "            to_append += f' {np.mean(e)}'\n",
    "        to_append += f' {g}'\n",
    "        file = open('dataset.csv', 'a', newline='')\n",
    "        with file:\n",
    "            writer = csv.writer(file)\n",
    "            writer.writerow(to_append.split())"
   ]
  },
  {
   "cell_type": "code",
   "execution_count": 19,
   "metadata": {},
   "outputs": [
    {
     "data": {
      "text/html": [
       "<div>\n",
       "<style scoped>\n",
       "    .dataframe tbody tr th:only-of-type {\n",
       "        vertical-align: middle;\n",
       "    }\n",
       "\n",
       "    .dataframe tbody tr th {\n",
       "        vertical-align: top;\n",
       "    }\n",
       "\n",
       "    .dataframe thead th {\n",
       "        text-align: right;\n",
       "    }\n",
       "</style>\n",
       "<table border=\"1\" class=\"dataframe\">\n",
       "  <thead>\n",
       "    <tr style=\"text-align: right;\">\n",
       "      <th></th>\n",
       "      <th>filename</th>\n",
       "      <th>chroma_stft</th>\n",
       "      <th>rmse</th>\n",
       "      <th>spectral_centroid</th>\n",
       "      <th>spectral_bandwidth</th>\n",
       "      <th>rolloff</th>\n",
       "      <th>zero_crossing_rate</th>\n",
       "      <th>mfcc1</th>\n",
       "      <th>mfcc2</th>\n",
       "      <th>mfcc3</th>\n",
       "      <th>...</th>\n",
       "      <th>mfcc12</th>\n",
       "      <th>mfcc13</th>\n",
       "      <th>mfcc14</th>\n",
       "      <th>mfcc15</th>\n",
       "      <th>mfcc16</th>\n",
       "      <th>mfcc17</th>\n",
       "      <th>mfcc18</th>\n",
       "      <th>mfcc19</th>\n",
       "      <th>mfcc20</th>\n",
       "      <th>label</th>\n",
       "    </tr>\n",
       "  </thead>\n",
       "  <tbody>\n",
       "    <tr>\n",
       "      <th>Blues</th>\n",
       "      <td>blues.00049.wav</td>\n",
       "      <td>0.277484</td>\n",
       "      <td>0.088607</td>\n",
       "      <td>1318.656822</td>\n",
       "      <td>1904.761177</td>\n",
       "      <td>3046.681577</td>\n",
       "      <td>0.039973</td>\n",
       "      <td>-255.965774</td>\n",
       "      <td>110.823046</td>\n",
       "      <td>21.505215</td>\n",
       "      <td>...</td>\n",
       "      <td>-2.442929</td>\n",
       "      <td>-7.130865</td>\n",
       "      <td>-11.163917</td>\n",
       "      <td>-12.609408</td>\n",
       "      <td>2.742009</td>\n",
       "      <td>-8.948849</td>\n",
       "      <td>-7.940728</td>\n",
       "      <td>-2.344157</td>\n",
       "      <td>-0.705606</td>\n",
       "      <td>Blues</td>\n",
       "    </tr>\n",
       "    <tr>\n",
       "      <th>Blues</th>\n",
       "      <td>blues.00045.wav</td>\n",
       "      <td>0.429511</td>\n",
       "      <td>0.148366</td>\n",
       "      <td>1739.019621</td>\n",
       "      <td>2290.401739</td>\n",
       "      <td>4551.155813</td>\n",
       "      <td>0.048052</td>\n",
       "      <td>-163.211141</td>\n",
       "      <td>89.791041</td>\n",
       "      <td>12.979256</td>\n",
       "      <td>...</td>\n",
       "      <td>6.008639</td>\n",
       "      <td>-2.910059</td>\n",
       "      <td>-0.434613</td>\n",
       "      <td>-17.545474</td>\n",
       "      <td>4.154533</td>\n",
       "      <td>-5.990226</td>\n",
       "      <td>-7.860423</td>\n",
       "      <td>-8.565096</td>\n",
       "      <td>1.857711</td>\n",
       "      <td>Blues</td>\n",
       "    </tr>\n",
       "    <tr>\n",
       "      <th>Blues</th>\n",
       "      <td>blues.00040.wav</td>\n",
       "      <td>0.397725</td>\n",
       "      <td>0.134892</td>\n",
       "      <td>2272.495079</td>\n",
       "      <td>2356.855937</td>\n",
       "      <td>5108.319111</td>\n",
       "      <td>0.097657</td>\n",
       "      <td>-110.260079</td>\n",
       "      <td>90.701812</td>\n",
       "      <td>-2.527487</td>\n",
       "      <td>...</td>\n",
       "      <td>5.952405</td>\n",
       "      <td>-8.033586</td>\n",
       "      <td>4.239868</td>\n",
       "      <td>-16.485552</td>\n",
       "      <td>6.542503</td>\n",
       "      <td>-5.695943</td>\n",
       "      <td>-3.640864</td>\n",
       "      <td>-4.856884</td>\n",
       "      <td>1.854516</td>\n",
       "      <td>Blues</td>\n",
       "    </tr>\n",
       "    <tr>\n",
       "      <th>Blues</th>\n",
       "      <td>blues.00010.wav</td>\n",
       "      <td>0.303954</td>\n",
       "      <td>0.142939</td>\n",
       "      <td>1410.469096</td>\n",
       "      <td>1512.620983</td>\n",
       "      <td>2767.274933</td>\n",
       "      <td>0.062981</td>\n",
       "      <td>-173.707514</td>\n",
       "      <td>137.156400</td>\n",
       "      <td>-23.766517</td>\n",
       "      <td>...</td>\n",
       "      <td>1.800535</td>\n",
       "      <td>-2.988374</td>\n",
       "      <td>-1.869389</td>\n",
       "      <td>-0.800155</td>\n",
       "      <td>-3.023782</td>\n",
       "      <td>-0.445196</td>\n",
       "      <td>-1.998228</td>\n",
       "      <td>-0.743599</td>\n",
       "      <td>-4.986112</td>\n",
       "      <td>Blues</td>\n",
       "    </tr>\n",
       "    <tr>\n",
       "      <th>Blues</th>\n",
       "      <td>blues.00097.wav</td>\n",
       "      <td>0.375158</td>\n",
       "      <td>0.198282</td>\n",
       "      <td>1236.574280</td>\n",
       "      <td>1602.309124</td>\n",
       "      <td>2604.150920</td>\n",
       "      <td>0.044626</td>\n",
       "      <td>-148.639173</td>\n",
       "      <td>145.746311</td>\n",
       "      <td>-9.363639</td>\n",
       "      <td>...</td>\n",
       "      <td>3.230693</td>\n",
       "      <td>-0.667060</td>\n",
       "      <td>-0.727791</td>\n",
       "      <td>-6.821160</td>\n",
       "      <td>-3.942547</td>\n",
       "      <td>-15.739370</td>\n",
       "      <td>-5.604688</td>\n",
       "      <td>-5.802770</td>\n",
       "      <td>-0.048729</td>\n",
       "      <td>Blues</td>\n",
       "    </tr>\n",
       "  </tbody>\n",
       "</table>\n",
       "<p>5 rows × 28 columns</p>\n",
       "</div>"
      ],
      "text/plain": [
       "              filename  chroma_stft      rmse  spectral_centroid  \\\n",
       "Blues  blues.00049.wav     0.277484  0.088607        1318.656822   \n",
       "Blues  blues.00045.wav     0.429511  0.148366        1739.019621   \n",
       "Blues  blues.00040.wav     0.397725  0.134892        2272.495079   \n",
       "Blues  blues.00010.wav     0.303954  0.142939        1410.469096   \n",
       "Blues  blues.00097.wav     0.375158  0.198282        1236.574280   \n",
       "\n",
       "       spectral_bandwidth      rolloff  zero_crossing_rate       mfcc1  \\\n",
       "Blues         1904.761177  3046.681577            0.039973 -255.965774   \n",
       "Blues         2290.401739  4551.155813            0.048052 -163.211141   \n",
       "Blues         2356.855937  5108.319111            0.097657 -110.260079   \n",
       "Blues         1512.620983  2767.274933            0.062981 -173.707514   \n",
       "Blues         1602.309124  2604.150920            0.044626 -148.639173   \n",
       "\n",
       "            mfcc2      mfcc3  ...    mfcc12    mfcc13     mfcc14     mfcc15  \\\n",
       "Blues  110.823046  21.505215  ... -2.442929 -7.130865 -11.163917 -12.609408   \n",
       "Blues   89.791041  12.979256  ...  6.008639 -2.910059  -0.434613 -17.545474   \n",
       "Blues   90.701812  -2.527487  ...  5.952405 -8.033586   4.239868 -16.485552   \n",
       "Blues  137.156400 -23.766517  ...  1.800535 -2.988374  -1.869389  -0.800155   \n",
       "Blues  145.746311  -9.363639  ...  3.230693 -0.667060  -0.727791  -6.821160   \n",
       "\n",
       "         mfcc16     mfcc17    mfcc18    mfcc19    mfcc20  label  \n",
       "Blues  2.742009  -8.948849 -7.940728 -2.344157 -0.705606  Blues  \n",
       "Blues  4.154533  -5.990226 -7.860423 -8.565096  1.857711  Blues  \n",
       "Blues  6.542503  -5.695943 -3.640864 -4.856884  1.854516  Blues  \n",
       "Blues -3.023782  -0.445196 -1.998228 -0.743599 -4.986112  Blues  \n",
       "Blues -3.942547 -15.739370 -5.604688 -5.802770 -0.048729  Blues  \n",
       "\n",
       "[5 rows x 28 columns]"
      ]
     },
     "execution_count": 19,
     "metadata": {},
     "output_type": "execute_result"
    }
   ],
   "source": [
    "# A ver :v\n",
    "datos = pd.read_csv('dataset.csv')\n",
    "datos.head()"
   ]
  },
  {
   "cell_type": "code",
   "execution_count": 20,
   "metadata": {},
   "outputs": [
    {
     "data": {
      "text/plain": [
       "(1000, 28)"
      ]
     },
     "execution_count": 20,
     "metadata": {},
     "output_type": "execute_result"
    }
   ],
   "source": [
    "datos.shape"
   ]
  },
  {
   "cell_type": "code",
   "execution_count": null,
   "metadata": {},
   "outputs": [],
   "source": []
  }
 ],
 "metadata": {
  "kernelspec": {
   "display_name": "Python 3",
   "language": "python",
   "name": "python3"
  },
  "language_info": {
   "codemirror_mode": {
    "name": "ipython",
    "version": 3
   },
   "file_extension": ".py",
   "mimetype": "text/x-python",
   "name": "python",
   "nbconvert_exporter": "python",
   "pygments_lexer": "ipython3",
   "version": "3.6.7"
  }
 },
 "nbformat": 4,
 "nbformat_minor": 2
}
